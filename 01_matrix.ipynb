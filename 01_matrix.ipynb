{
  "nbformat": 4,
  "nbformat_minor": 0,
  "metadata": {
    "colab": {
      "name": "01-matrix.ipynb",
      "provenance": [],
      "collapsed_sections": [],
      "authorship_tag": "ABX9TyNxLQ5ZCzRJZSbvpJYpJwsw"
    },
    "kernelspec": {
      "name": "python3",
      "display_name": "Python 3"
    },
    "language_info": {
      "name": "python"
    }
  },
  "cells": [
    {
      "cell_type": "code",
      "metadata": {
        "id": "W_sH7elEbrm9"
      },
      "source": [
        "import numpy as np"
      ],
      "execution_count": 7,
      "outputs": []
    },
    {
      "cell_type": "code",
      "metadata": {
        "id": "d9U69a6ucGd-"
      },
      "source": [
        "x = np.array([1, 2])"
      ],
      "execution_count": 8,
      "outputs": []
    },
    {
      "cell_type": "code",
      "metadata": {
        "id": "U2zNTKgNcjSi"
      },
      "source": [
        "w = np.array([[4, 8], [6, 3]])"
      ],
      "execution_count": 9,
      "outputs": []
    },
    {
      "cell_type": "markdown",
      "metadata": {
        "id": "NZ_Jy6qqeKPw"
      },
      "source": [
        "- [numpy.array — NumPy v1.21 Manual](https://numpy.org/doc/stable/reference/generated/numpy.array.html)"
      ]
    },
    {
      "cell_type": "code",
      "metadata": {
        "colab": {
          "base_uri": "https://localhost:8080/"
        },
        "id": "S8_lNulkeMkl",
        "outputId": "2028db04-4055-42f7-b6b7-80cda6a271c4"
      },
      "source": [
        "# numpy.dot\n",
        "x.dot(w)"
      ],
      "execution_count": 10,
      "outputs": [
        {
          "output_type": "execute_result",
          "data": {
            "text/plain": [
              "array([16, 14])"
            ]
          },
          "metadata": {
            "tags": []
          },
          "execution_count": 10
        }
      ]
    },
    {
      "cell_type": "markdown",
      "metadata": {
        "id": "YLLu_DAzeu4R"
      },
      "source": [
        "- [numpy.dot — NumPy v1.21 Manual](https://numpy.org/doc/stable/reference/generated/numpy.dot.html)"
      ]
    },
    {
      "cell_type": "code",
      "metadata": {
        "colab": {
          "base_uri": "https://localhost:8080/"
        },
        "id": "nvOlS-a-e7WX",
        "outputId": "36f4dc14-8a46-497b-ceb1-58749d008e25"
      },
      "source": [
        "x = np.array([1, 4, 7])\n",
        "w = np.array([[2, 8, 7], [1, 9, 3], [6, 4, 0]])\n",
        "x.dot(w)"
      ],
      "execution_count": 11,
      "outputs": [
        {
          "output_type": "execute_result",
          "data": {
            "text/plain": [
              "array([48, 72, 19])"
            ]
          },
          "metadata": {
            "tags": []
          },
          "execution_count": 11
        }
      ]
    }
  ]
}