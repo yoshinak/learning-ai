{
  "nbformat": 4,
  "nbformat_minor": 0,
  "metadata": {
    "colab": {
      "name": "2-13--2-16.ipynb",
      "provenance": [],
      "collapsed_sections": [
        "H3YYBXe2Otqw",
        "pUQqsjriyF6l"
      ],
      "authorship_tag": "ABX9TyPSfEJPCfwoHA1+S9mfQDBq"
    },
    "kernelspec": {
      "name": "python3",
      "display_name": "Python 3"
    },
    "language_info": {
      "name": "python"
    }
  },
  "cells": [
    {
      "cell_type": "markdown",
      "metadata": {
        "id": "ykIcWGWs00Wa"
      },
      "source": [
        "1. 自己情報量\n",
        "1. Shannon's Entropy\n",
        "1. Kullback–Leibler divergence\n",
        "1. cross entropy ( 交差エントロピー )\n",
        "\n",
        "- TODO: [交差エントロピー誤差をわかりやすく説明してみる - Qiita](https://qiita.com/kenta1984/items/59a9ef1788e6934fd962)\n",
        "\n"
      ]
    },
    {
      "cell_type": "markdown",
      "metadata": {
        "id": "H3YYBXe2Otqw"
      },
      "source": [
        "## Shannon's Entropy\n",
        "\n",
        "### 参考\n",
        "\n",
        "- [情報量 | 情報エントロピー（平均情報量）の求め方とその取りうる値域の証明](https://bi.biopapyrus.jp/seq/entropy.html)\n",
        "\n",
        "$ H = -\\sum_{E\\in \\Omega}P(E)\\log P(E) $\n",
        "\n",
        "- [情報量 - Wikipedia](https://ja.wikipedia.org/wiki/%E6%83%85%E5%A0%B1%E9%87%8F)\n",
        "** コイン投げの例\n"
      ]
    },
    {
      "cell_type": "code",
      "metadata": {
        "id": "pJoLNeEE0YDX"
      },
      "source": [
        "import numpy as np\n",
        "import matplotlib.pyplot as plt"
      ],
      "execution_count": 69,
      "outputs": []
    },
    {
      "cell_type": "markdown",
      "metadata": {
        "id": "Z22N852FZJW8"
      },
      "source": [
        "binary_entropy_function\n",
        "\n",
        "$ H(X) = -p\\log p - (1 - p) \\log (1 - p) $"
      ]
    },
    {
      "cell_type": "code",
      "metadata": {
        "id": "vAfloyVnTDaS"
      },
      "source": [
        "def binary_entropy_function(prob):\n",
        "  return -prob*np.log(prob) - (1 - prob)*np.log(1 - prob)"
      ],
      "execution_count": 70,
      "outputs": []
    },
    {
      "cell_type": "code",
      "metadata": {
        "colab": {
          "base_uri": "https://localhost:8080/",
          "height": 0
        },
        "id": "SAEQnbfwT6Vv",
        "outputId": "91cc01b5-530d-420f-debc-5784a6262e48"
      },
      "source": [
        "x = np.arange(0,10,0.01)\n",
        "\n",
        "y = binary_entropy_function(x)\n",
        "\n",
        "plt.plot(x,y)"
      ],
      "execution_count": 71,
      "outputs": [
        {
          "output_type": "stream",
          "name": "stderr",
          "text": [
            "/usr/local/lib/python3.7/dist-packages/ipykernel_launcher.py:2: RuntimeWarning: divide by zero encountered in log\n",
            "  \n",
            "/usr/local/lib/python3.7/dist-packages/ipykernel_launcher.py:2: RuntimeWarning: invalid value encountered in multiply\n",
            "  \n",
            "/usr/local/lib/python3.7/dist-packages/ipykernel_launcher.py:2: RuntimeWarning: invalid value encountered in log\n",
            "  \n"
          ]
        },
        {
          "output_type": "execute_result",
          "data": {
            "text/plain": [
              "[<matplotlib.lines.Line2D at 0x7f3b029197d0>]"
            ]
          },
          "metadata": {},
          "execution_count": 71
        },
        {
          "output_type": "display_data",
          "data": {
            "image/png": "[encoded data removed]",
            "text/plain": [
              "<Figure size 432x288 with 1 Axes>"
            ]
          },
          "metadata": {
            "needs_background": "light"
          }
        }
      ]
    },
    {
      "cell_type": "markdown",
      "metadata": {
        "id": "Bv3cluhdkfdZ"
      },
      "source": [
        "## 例題\n",
        "\n",
        "以下を計算してみる。\n",
        "\n",
        "* [情報理論の基礎～情報量の定義から相対エントロピー、相互情報量まで～ | Logics of Blue](https://logics-of-blue.com/information-theory-basic/)\n",
        "** 3．情報エントロピーと平均情報量\n",
        "\n",
        "> 引用:\n",
        "\\begin{eqnarray} \n",
        "平均情報量 : H(X) &=& \\displaystyle \\sum_{ i = 1 }^{ 5 } – P(x_i) \\times \\log_{ 2 } P(x_i) \\\\ \n",
        " &=& -\\frac{ 1 }{ 5 } \\times \\{ \\log_{ 2 } \\frac{ 1 }{ 5 } +  \\log_{ 2 } \\frac{ 1 }{ 5 } +  \\log_{ 2 } \\frac{ 1 }{ 5 } +  \\log_{ 2 } \\frac{ 1 }{ 5 } +  \\log_{ 2 } \\frac{ 1 }{ 5 } \\} \\\\ \n",
        " &≒&2.32 \n",
        "\\end{eqnarray}\n",
        "> \n"
      ]
    },
    {
      "cell_type": "code",
      "metadata": {
        "id": "UYnlO2q-kvAb"
      },
      "source": [
        "def p(x):\n",
        "  return 1/x\n",
        "\n",
        "def sigma(num, value):\n",
        "  sum = 0\n",
        "  for _ in range(0, num):\n",
        "    sum = sum + value\n",
        "    # print(\"sum=\" + str(sum))\n",
        "  return sum\n",
        "\n",
        "def s_i(x):\n",
        "  return np.log2(p(x))\n",
        "\n",
        "# TODO: X とは?\n",
        "def h(x):\n",
        "  return - p(x) * sigma(x, s_i(x))\n"
      ],
      "execution_count": 72,
      "outputs": []
    },
    {
      "cell_type": "code",
      "metadata": {
        "colab": {
          "base_uri": "https://localhost:8080/"
        },
        "id": "s-pbiEjUnK4y",
        "outputId": "23aec068-c667-4fa9-eede-c86c8392b112"
      },
      "source": [
        "# `情報B、Cをすでに持っていて、出た目が｛２，４，６，８，１０｝のどれかだと知っている場合の平均情報量`\n",
        "h(5)"
      ],
      "execution_count": 83,
      "outputs": [
        {
          "output_type": "execute_result",
          "data": {
            "text/plain": [
              "2.321928094887362"
            ]
          },
          "metadata": {},
          "execution_count": 83
        }
      ]
    },
    {
      "cell_type": "code",
      "metadata": {
        "colab": {
          "base_uri": "https://localhost:8080/"
        },
        "id": "fAstRTCHqz7L",
        "outputId": "6a32ec14-d920-47bb-c2d5-044accd3401f"
      },
      "source": [
        "# `40個の目のうち、どれが出るかさっぱりわからない、という状態`\n",
        "h(40)"
      ],
      "execution_count": 78,
      "outputs": [
        {
          "output_type": "execute_result",
          "data": {
            "text/plain": [
              "5.321928094887367"
            ]
          },
          "metadata": {},
          "execution_count": 78
        }
      ]
    },
    {
      "cell_type": "markdown",
      "metadata": {
        "id": "JkNoLfQOrBns"
      },
      "source": [
        "1番目の例では、5 個から選ぶエントロピー。\n",
        "2番目の例では、40 個から選ぶエントロピー。\n",
        "\n",
        "x 個から選ぶエントロピーとして、横軸を x 、 縦軸をエントロピーにしたら、どんなグラフになるのか?\n"
      ]
    },
    {
      "cell_type": "code",
      "metadata": {
        "id": "HxHeeiJjrxux"
      },
      "source": [
        "def create_entropy_array(x):\n",
        "  y = np.array([])\n",
        "\n",
        "  for x_element in x:\n",
        "    # print(str(x_element))\n",
        "    y_element = h(x_element)\n",
        "    # print(\"y_element=\" + str(y_element))\n",
        "    y= np.append(y, y_element)\n",
        "\n",
        "  # print(\"y=\" + str(y))\n",
        "  return y"
      ],
      "execution_count": 79,
      "outputs": []
    },
    {
      "cell_type": "code",
      "metadata": {
        "id": "3bIjFnersnhB"
      },
      "source": [
        "def plot_entropy(x):\n",
        "  plt.plot(x, create_entropy_array(x))\n",
        "  plt.grid()\n",
        "  # plt.xlim(0,40)\n",
        "  plt.show()\n"
      ],
      "execution_count": 80,
      "outputs": []
    },
    {
      "cell_type": "code",
      "metadata": {
        "colab": {
          "base_uri": "https://localhost:8080/",
          "height": 265
        },
        "id": "GMzeUeqkrafK",
        "outputId": "604ed589-f4ed-48f3-f91f-874d5e7db666"
      },
      "source": [
        "x = np.arange(5, 40, 1)\n",
        "plot_entropy(x)"
      ],
      "execution_count": 81,
      "outputs": [
        {
          "output_type": "display_data",
          "data": {
            "image/png": "[encoded data removed]",
            "text/plain": [
              "<Figure size 432x288 with 1 Axes>"
            ]
          },
          "metadata": {
            "needs_background": "light"
          }
        }
      ]
    },
    {
      "cell_type": "code",
      "metadata": {
        "colab": {
          "base_uri": "https://localhost:8080/",
          "height": 265
        },
        "id": "MpDoCUDUxtfn",
        "outputId": "0885e49c-ef4d-440a-f778-bc1d26f5c0bd"
      },
      "source": [
        "# もう少し大きくすると、\n",
        "x2 = np.arange(1, 100, 1)\n",
        "plot_entropy(x2)"
      ],
      "execution_count": 82,
      "outputs": [
        {
          "output_type": "display_data",
          "data": {
            "image/png": "[encoded data removed]",
            "text/plain": [
              "<Figure size 432x288 with 1 Axes>"
            ]
          },
          "metadata": {
            "needs_background": "light"
          }
        }
      ]
    },
    {
      "cell_type": "markdown",
      "metadata": {
        "id": "pUQqsjriyF6l"
      },
      "source": [
        "### Conclusion\n",
        "\n",
        "対数に似たグラフになる。\n"
      ]
    }
  ]
}